{
 "cells": [
  {
   "cell_type": "code",
   "execution_count": 1,
   "metadata": {
    "collapsed": true
   },
   "outputs": [],
   "source": [
    "import sys\n",
    "#sys.path.append('/Users/lhtlinda/anaconda/lib/python3.6/site-packages')\n"
   ]
  },
  {
   "cell_type": "code",
   "execution_count": 2,
   "metadata": {},
   "outputs": [
    {
     "name": "stdout",
     "output_type": "stream",
     "text": [
      "/Library/Frameworks/Python.framework/Versions/2.7/Resources/Python.app/Contents/MacOS/Python\n"
     ]
    }
   ],
   "source": [
    "from sys import executable\n",
    "print(executable)"
   ]
  },
  {
   "cell_type": "code",
   "execution_count": 3,
   "metadata": {
    "collapsed": true
   },
   "outputs": [],
   "source": [
    "from gensim.models import LsiModel\n",
    "from gensim.models import Word2Vec\n",
    "import gensim "
   ]
  },
  {
   "cell_type": "code",
   "execution_count": 4,
   "metadata": {},
   "outputs": [
    {
     "name": "stdout",
     "output_type": "stream",
     "text": [
      "[nltk_data] Downloading package punkt to /Users/coolseyun/nltk_data...\n",
      "[nltk_data]   Package punkt is already up-to-date!\n"
     ]
    },
    {
     "data": {
      "text/plain": [
       "True"
      ]
     },
     "execution_count": 4,
     "metadata": {},
     "output_type": "execute_result"
    }
   ],
   "source": [
    "import nltk\n",
    "nltk.download('punkt')"
   ]
  },
  {
   "cell_type": "code",
   "execution_count": 5,
   "metadata": {
    "collapsed": true
   },
   "outputs": [],
   "source": [
    "import pandas as pd"
   ]
  },
  {
   "cell_type": "code",
   "execution_count": 6,
   "metadata": {
    "collapsed": true
   },
   "outputs": [],
   "source": [
    "books=pd.read_json('sample_debug_0_10000.json',orient='records')\n",
    "#books=pd/.read_json('/Users/lhtlinda/Downloads/0-200.json',orient='records')\n",
    "books = books[:10]"
   ]
  },
  {
   "cell_type": "code",
   "execution_count": 7,
   "metadata": {
    "scrolled": true
   },
   "outputs": [
    {
     "name": "stdout",
     "output_type": "stream",
     "text": [
      "[nltk_data] Downloading package stopwords to\n",
      "[nltk_data]     /Users/coolseyun/nltk_data...\n",
      "[nltk_data]   Package stopwords is already up-to-date!\n"
     ]
    }
   ],
   "source": [
    "nltk.download('stopwords')\n",
    "from nltk.corpus import stopwords\n",
    "english_stopwords = stopwords.words('english')"
   ]
  },
  {
   "cell_type": "code",
   "execution_count": 10,
   "metadata": {
    "collapsed": true
   },
   "outputs": [],
   "source": [
    "docid_to_words=dict()\n",
    "id_to_doc=dict()\n",
    "doc_to_id=dict()\n",
    "i=0\n",
    "for k,v in books.items():\n",
    "    id_to_doc[i]=k\n",
    "    doc_to_id[k]=i\n",
    "    docid_to_words[i]=''\n",
    "    for rev in v['review']:\n",
    "        docid_to_words[i]=docid_to_words[i]+rev[0];\n",
    "    docid_to_words[i]=nltk.word_tokenize(docid_to_words[i])\n",
    "    temp= docid_to_words[i]\n",
    "    docid_to_words[i]=[]\n",
    "    for w in temp:\n",
    "        if w not in english_stopwords:\n",
    "            docid_to_words[i].append(w)\n",
    "    i=i+1;\n",
    "    "
   ]
  },
  {
   "cell_type": "code",
   "execution_count": 9,
   "metadata": {},
   "outputs": [
    {
     "ename": "KeyboardInterrupt",
     "evalue": "",
     "output_type": "error",
     "traceback": [
      "\u001b[0;31m---------------------------------------------------------------------------\u001b[0m",
      "\u001b[0;31mKeyboardInterrupt\u001b[0m                         Traceback (most recent call last)",
      "\u001b[0;32m<ipython-input-9-1f1cfe72bf76>\u001b[0m in \u001b[0;36m<module>\u001b[0;34m()\u001b[0m\n\u001b[1;32m     21\u001b[0m \u001b[0;32mfor\u001b[0m \u001b[0mv\u001b[0m \u001b[0;32min\u001b[0m \u001b[0mdocid_to_words\u001b[0m\u001b[0;34m.\u001b[0m\u001b[0mvalues\u001b[0m\u001b[0;34m(\u001b[0m\u001b[0;34m)\u001b[0m\u001b[0;34m:\u001b[0m\u001b[0;34m\u001b[0m\u001b[0m\n\u001b[1;32m     22\u001b[0m     \u001b[0;32mfor\u001b[0m \u001b[0mw\u001b[0m \u001b[0;32min\u001b[0m \u001b[0mv\u001b[0m\u001b[0;34m:\u001b[0m\u001b[0;34m\u001b[0m\u001b[0m\n\u001b[0;32m---> 23\u001b[0;31m         \u001b[0;32mif\u001b[0m \u001b[0mw\u001b[0m \u001b[0;32mnot\u001b[0m \u001b[0;32min\u001b[0m \u001b[0mwords_to_id\u001b[0m\u001b[0;34m.\u001b[0m\u001b[0mkeys\u001b[0m\u001b[0;34m(\u001b[0m\u001b[0;34m)\u001b[0m\u001b[0;34m:\u001b[0m\u001b[0;34m\u001b[0m\u001b[0m\n\u001b[0m\u001b[1;32m     24\u001b[0m             \u001b[0mid_to_words\u001b[0m\u001b[0;34m[\u001b[0m\u001b[0mid\u001b[0m\u001b[0;34m]\u001b[0m\u001b[0;34m=\u001b[0m\u001b[0mw\u001b[0m\u001b[0;34m\u001b[0m\u001b[0m\n\u001b[1;32m     25\u001b[0m             \u001b[0mwords_to_id\u001b[0m\u001b[0;34m[\u001b[0m\u001b[0mw\u001b[0m\u001b[0;34m]\u001b[0m\u001b[0;34m=\u001b[0m\u001b[0mid\u001b[0m\u001b[0;34m\u001b[0m\u001b[0m\n",
      "\u001b[0;31mKeyboardInterrupt\u001b[0m: "
     ]
    }
   ],
   "source": [
    "docid_to_words=dict()\n",
    "id_to_doc=dict()\n",
    "doc_to_id=dict()\n",
    "i=0\n",
    "for k,v in books.items():\n",
    "    id_to_doc[i]=k\n",
    "    doc_to_id[k]=i\n",
    "    docid_to_words[i]=''\n",
    "    for rev in v['review']:\n",
    "        docid_to_words[i]=docid_to_words[i]+rev[0];\n",
    "    docid_to_words[i]=nltk.word_tokenize(docid_to_words[i])\n",
    "    temp= docid_to_words[i]\n",
    "    docid_to_words[i]=[]\n",
    "    for w in temp:\n",
    "        if w not in english_stopwords:\n",
    "            docid_to_words[i].append(w)\n",
    "    i=i+1;\n",
    "id_to_words=dict()\n",
    "words_to_id=dict()\n",
    "id=0\n",
    "for v in docid_to_words.values():\n",
    "    for w in v:\n",
    "        if w not in words_to_id.keys():\n",
    "            id_to_words[id]=w\n",
    "            words_to_id[w]=id\n",
    "    id=id+1\n",
    "li=list()\n",
    "for v in docid_to_words.values():\n",
    "    templi=dict()\n",
    "    for w in v:\n",
    "        if w not in templi:\n",
    "            templi[words_to_id[w]]=1\n",
    "        else:\n",
    "            templi[words_to_id[w]]=templi[words_to_id[w]]+1\n",
    "    templist=list()\n",
    "    for k,v in templi.items():\n",
    "        templist.append((k,v))\n",
    "    li.append(templist)\n",
    "\n",
    "model=LsiModel(li)\n"
   ]
  },
  {
   "cell_type": "code",
   "execution_count": 9,
   "metadata": {},
   "outputs": [
    {
     "name": "stdout",
     "output_type": "stream",
     "text": [
      "1157\n"
     ]
    }
   ],
   "source": [
    "print(len(id_to_doc))"
   ]
  },
  {
   "cell_type": "code",
   "execution_count": 10,
   "metadata": {},
   "outputs": [
    {
     "name": "stdout",
     "output_type": "stream",
     "text": [
      "168\n"
     ]
    }
   ],
   "source": [
    "print(len(id_to_words))\n"
   ]
  },
  {
   "cell_type": "code",
   "execution_count": 12,
   "metadata": {},
   "outputs": [
    {
     "name": "stdout",
     "output_type": "stream",
     "text": [
      "0.144*\"0\" + 0.143*\"24\" + 0.142*\"30\" + 0.141*\"32\" + 0.139*\"25\" + 0.138*\"37\" + -0.137*\"525\" + 0.137*\"35\" + -0.137*\"621\" + 0.135*\"11\" + -0.134*\"533\" + -0.134*\"720\" + 0.131*\"41\"\n"
     ]
    }
   ],
   "source": [
    "print(model.print_topic(1,13)) \n",
    "#these representations are all numbers as oppposed to strings nad words \n",
    "#print(model.show_topics()) ㅊ\n",
    "#create id to words in orer map back the numbers of the usage \n",
    "\n",
    "#need to change ids to words in this vector  and in this section iterate through each of the sections \n",
    "#to create words that are needed in the algorithm \n",
    "\n",
    "#print(model.show)"
   ]
  },
  {
   "cell_type": "code",
   "execution_count": 25,
   "metadata": {},
   "outputs": [
    {
     "name": "stdout",
     "output_type": "stream",
     "text": [
      "(1153, 153)\n"
     ]
    }
   ],
   "source": [
    "vec=model.projection.u\n",
    "print(vec.shape)"
   ]
  },
  {
   "cell_type": "code",
   "execution_count": 74,
   "metadata": {
    "collapsed": true
   },
   "outputs": [],
   "source": [
    "from gensim.models import Word2Vec\n"
   ]
  },
  {
   "cell_type": "code",
   "execution_count": 75,
   "metadata": {
    "collapsed": true
   },
   "outputs": [],
   "source": [
    "word_list=list()\n",
    "for i in range(0,len(docid_to_words)):\n",
    "    word_list.append(docid_to_words[i])\n",
    "model2=Word2Vec(word_list)"
   ]
  },
  {
   "cell_type": "code",
   "execution_count": null,
   "metadata": {
    "collapsed": true
   },
   "outputs": [],
   "source": []
  },
  {
   "cell_type": "code",
   "execution_count": 76,
   "metadata": {},
   "outputs": [
    {
     "name": "stdout",
     "output_type": "stream",
     "text": [
      "100\n"
     ]
    },
    {
     "name": "stderr",
     "output_type": "stream",
     "text": [
      "/Library/Frameworks/Python.framework/Versions/3.5/lib/python3.5/site-packages/ipykernel_launcher.py:1: DeprecationWarning: Call to deprecated `__getitem__` (Method will be removed in 4.0.0, use self.wv.__getitem__() instead).\n",
      "  \"\"\"Entry point for launching an IPython kernel.\n"
     ]
    }
   ],
   "source": [
    "print(len(model2['feelings']))\n"
   ]
  },
  {
   "cell_type": "code",
   "execution_count": 12,
   "metadata": {
    "collapsed": true
   },
   "outputs": [],
   "source": [
    "# word 2 vec using google news  \n",
    "\n",
    "word_vectors = gensim.models.KeyedVectors.load_word2vec_format('GoogleNews-vectors-negative300-002.bin', binary=True)\n",
    "# "
   ]
  },
  {
   "cell_type": "code",
   "execution_count": 14,
   "metadata": {},
   "outputs": [],
   "source": [
    "import numpy as np\n",
    "vecdict=dict()\n",
    "for i in range(0,len(id_to_doc)):\n",
    "    temp=id_to_doc[i]\n",
    "    vec=np.zeros(300)\n",
    "    count=0\n",
    "    for j in range(0,len(temp)):\n",
    "        try:\n",
    "            vec=vec+word_vectors[temp[j]]\n",
    "            count=count+1\n",
    "        except KeyError:\n",
    "            vec=vec\n",
    "    vec=vec/count\n",
    "    vecdict[i]=vec\n"
   ]
  },
  {
   "cell_type": "code",
   "execution_count": 19,
   "metadata": {},
   "outputs": [
    {
     "name": "stdout",
     "output_type": "stream",
     "text": [
      "A Wrinkle in Time: Student Packet (by) Novel Units, Inc. (published by) \n"
     ]
    }
   ],
   "source": [
    "print(id_to_doc[50])\n",
    "\n",
    "\n"
   ]
  },
  {
   "cell_type": "code",
   "execution_count": 23,
   "metadata": {},
   "outputs": [
    {
     "name": "stdout",
     "output_type": "stream",
     "text": [
      "Hamlet (by) William Shakespeare (published by) Simon  Schuster\n",
      "A Wrinkle in Time: Student Packet (by) Novel Units, Inc. (published by) \n",
      "A Wrinkle in Time: Teaching Unit (by) James      Scott (published by) Prestwick House\n",
      "Francis: Three Complete Novels (by) Dick Francis (published by) Putnam Adult\n",
      "Salonika Bay Murder: Cold War Politics and the Polk Affair (by) Edmund Keeley (published by) Princeton University Press\n",
      "Initiation in Ancient Greek Rituals and Narratives: New Critical Perspectives (by) David Brooks Dodd (published by) Routledge\n",
      "Do Android Crows Fly Over the Skies of an Electronic Tokyo?: The Interactive Urban Landscape of Japan (by) Akira Suzuki (published by) AA Publishing\n",
      "Objective IELTS Intermediate Student's Book (by) Michael Black (published by) \n",
      "Sailing Smart: Winning Techniques, Tactics, And Strategies (by) Buddy Melges (published by) Holt Paperbacks\n",
      "Virgil's Aeneid: Interpretation and Influence (by) Michael C.J. Putnam (published by) University of North Carolina Press\n",
      "A Wrinkle in Time: LitPlan Teacher Pack (by) Mary B. Collins (published by) Teacher's Pet Publications\n",
      "Some of the Funniest Things Happen in the Most Unlikely and Unexpected Places (by) Glenn W. Martin (published by) iUniverse\n",
      "Daily Life in Ancient and Modern Timbuktu (by) Larry Brook (published by) Runestone Press\n",
      "Physician Assistants In American Medicine (by) Roderick S. Hooker (published by) Churchill Livingstone\n",
      "Simply Italian: Easy Recipes That Are Quick to Prepare, Low in Calories, and Kind to Your Budget (by) Valentina Harris (published by) \n",
      "Passing the Torch: Succession, Retirement, and Estate Planning in Family-Owned Businesses (by) Mike Cohn (published by) \n",
      "Today's Beach Houses (by) Pilar Chueca (published by) Links International\n",
      "Peripheral (Post) Modernity: The Syncretist Aesthetics of Borges, Piglia, Kalokyris and Kyriakidis (by) Eleni Kefala (published by) Peter Lang Inc., International Academic Publishers\n",
      "A Walk in the Woods (Stickerific) (by) Walt Disney Company (published by) Golden/Disney\n",
      "Human Traces (by) Sebastian Faulks (published by) Vintage\n",
      "Silent Screens: The Decline and Transformation of the American Movie Theater (by) Michael C.J. Putnam (published by) Johns Hopkins University Press\n",
      "Paul Auster and Postmodern Quest: On the Road to Nowhere (by) Chippy M.L. Den Irvine (published by) Peter Lang Inc., International Academic Publishers\n",
      "Planet of the Apes: The Human War (by) Ian Edginton (published by) Titan Books Ltd\n",
      "Euripides and the Poetics of Sorrow: Art, Gender, and Commemoration in Alcestis, Hippolytus, and Hecuba (by) Charles Segal (published by) Duke University Press Books\n",
      "Studies in Short Fiction Series: J. D. Salinger (Twayne's Studies in Short Fiction) (No. 25) (by) John Paul Wenke (published by) Twayne Publishers\n",
      "Understanding the Catcher in the Rye: A Student Casebook to Issues, Sources, and Historical Documents (by) Sanford Pinsker (published by) Greenwood\n",
      "Days Between Stations (by) Steve Erickson (published by) Simon & Schuster\n",
      "Melville and the politics of identity: From *King Lear* to *Moby-Dick* (by) Julian Markels (published by) University of Illinois Press\n",
      "George Eliot and Judaism: An Attempt to Appreciate 'Daniel Deronda' (by) David Kaufmann (published by) University Press of the Pacific\n",
      "Practice! Practice!: A Latin Via Ovid Workbook (Revised Ed.) (by) Norma Goldman (published by) Wayne State University Press\n",
      "Physician Assistant Board Review: Certification and Recertification with Online Exam Simulation. Expert Consult - Online and Print (by) James Van Rhee (published by) Saunders\n",
      "Plants and Animals in the Life of the Kuna (by) Jorge Ventocilla (published by) University of Texas Press\n",
      "The Young Person's Guide to the Ballet: With Music from The Nutcracker, Swan Lake, and The Sleeping Beauty (Book & CD) (by) Anita Ganeri (published by) Harcourt Children's Books\n",
      "A Wealth of Family: An Adopted Son's International Quest for Heritage, Reunion, and Enrichment (by) Thomas Brooks (published by) Alpha Multimedia, Inc.\n",
      "The Untouchables: Subordination, Poverty and the State in Modern India (Contemporary South Asia, #4) (by) Oliver Mendelsohn (published by) Cambridge University Press\n",
      "Colonial and Postcolonial Discourse in the Novels of Yom Sang-Sop, Chinua Achebe and Salman Rushdie (by) Soonsik Kim (published by) Peter Lang Inc., International Academic Publishers\n",
      "Plays 1: Small Towns  Sea: Horseplay, Flipside, Trick of the Light (by) Ken Duncum (published by) Victoria University Press\n",
      "The Rock Art of Texas Indians (by) William W. Newcomb (published by) University of Texas Press\n",
      "What, Then, Is Time? (by) Eva Brann (published by) Rowman & Littlefield Publishers\n",
      "Easy-Bake Cookbook, The Official (by) Jennifer Mattson (published by) Dutton Juvenile\n",
      "A Million and One Love Strategies (by) Marie Papillion (published by) St. Martin's Paperbacks\n",
      "The Innocents Abroad (by) Mark Twain (published by) Dover Publications\n",
      "The Kantian Subject: Sensus Communis, Mimesis, Work of Mourning (by) Tamar Japaridze (published by) State University of New York Press\n",
      "Complications in Anesthesia (by) John L. Atlee (published by) Saunders\n",
      "Gorgias and the New Sophistic Rhetoric (by) Bruce McComiskey (published by) Southern Illinois University Press\n",
      "Intertextuality and the Reading of Roman Poetry (by) Lowell Edmunds (published by) Johns Hopkins University Press\n",
      "Both Sides of the Mirror: The Science  Art of Ballet (by) Anna Paskevska (published by) Princeton Book Company\n",
      "Hegel's Absolute: An Introduction to Reading the Phenomenology of Spirit (by) Donald Phillip Verene (published by) State University of New York Press\n",
      "Understanding a Raisin in the Sun: A Student Casebook to Issues, Sources, and Historical Documents (by) Lynn Domina (published by) Greenwood\n",
      "An End to Poverty?: A Historical Debate (by) Gareth Stedman Jones (published by) Columbia University Press\n",
      "Stochastic Processes (by) Emanuel Parzen (published by) Society for Industrial and Applied Mathematics (SIAM)\n",
      "Christus \"Medicus' In der Fruhchristlichen Sarkophagskulptur: Ikonographische Studien der Sepulkralkunst Des Spaten Vierten Jahrhunderts (by) David Knipp (published by) Brill Academic Publishers\n",
      "Cultural Diversity Fieldbook: Fresh Visions and Breakthrough Strategies for Revitalizing the Workplace (by) Bob Abramms (published by) Peterson Nelnet Co\n",
      "Rhetoric and Reality in Plato's \"Phaedrus\" (by) David A.   White (published by) State University of New York Press\n",
      "God Things Come in Small Packages for Women: Celebrating the Unique Gifts of Women (by) Susan Duke (published by) Starburst Publishers\n",
      "Rushdie in Wonderland: Fairytaleness in Salman Rushdie's Fiction (by) Justyna Deszcz (published by) Peter Lang Publishing\n",
      "Further Along the Road Less Traveled: \"Going to Omaha\": The Issue of Death and Meaning (by) M. Scott Peck (published by) Audioworks\n",
      "The Invisible Web: Uncovering Information Sources Search Engines Can't See (by) Gary Price (published by) Information Today, Inc.\n",
      "Along the Juniata: Thomas Cole and the Dissemination of American Landscape Imagery (by) Nancy Siegel (published by) University of Washington Press\n",
      "Picnics in the Park: Moveable Feasts for Dining Alfresco (by) Connie McCole (published by) Hearst Communications\n",
      "Anti Semitism, Fascism And The Holocaust: A Critical Review Of Daniel Goldhagen's Hitler's Willing Executioners (by) David North (published by) \n",
      "State Feminism, Women's Movements, and Job Training: Making Democracies Work in the Global Economy (by) Amy Mazur (published by) Routledge\n",
      "Invisible Relations: Representations of Female Intimacy in the Age of Enlightenment (by) Elizabeth Susan Wahl (published by) Stanford University Press\n",
      "The Lira Da Braccio (by) Sterling Scott Jones (published by) Indiana University Press\n",
      "Walk Fast, Talk Loud and Smile: How to Succeed in Sales and Have Fun Doing It (by) David Otis (published by) Booksurge Publishing\n",
      "Stranger Than Fiction: An Independent Investigation of the True Culprits Behid 9-11 (by) Albert D. Pastore (published by) Dandelion Enterprises\n",
      "Roadside Guide to Indian Ruins & Rock Art of the Southwest (by) Gordon Sullivan (published by) Westcliffe Publishers\n",
      "Lipstick Jungle (by) Candace Bushnell (published by) Hachette Books\n",
      "Maximum Security: The Culture of Violence in Inner-City Schools (by) John Devine (published by) University Of Chicago Press\n",
      "Storage Network Performance Analysis (by) Huseyin Simitci (published by) Wiley\n",
      "Hypercapitalism: New Media, Language, and Social Perceptions of Value (by) Phil Graham (published by) Peter Lang Inc., International Academic Publishers\n",
      "Women, Crime and Punishment in Ancient Law and Society: Volume 2: Ancient Greece (by) Elisabeth Meier Tetlow (published by) Bloomsbury Academic\n",
      "Online Investing Hacks: 100 Industrial-Strength Tips & Tools (by) Bonnie Biafore (published by) O'Reilly Media\n",
      "Edith Wharton and the Politics of Race (by) Jennie A. Kassanoff (published by) Cambridge University Press\n",
      "Democracy Without Citizens: Media and the Decay of American Politics (by) Robert M. Entman (published by) Oxford University Press, USA\n",
      "Complications in Regional Anesthesia and Pain Medicine (by) Joseph M. Neal (published by) Saunders\n",
      "Enforcing Work Ethic: Rhetoric and Everyday Life in a Work Incentive Program (by) Gale Miller (published by) State University of New York Press\n",
      "Night Lives: Nine Stories of the Dark Fantastic (by) Phyllis Eisenstein (published by) Five Star\n",
      "The Contexts of Juvenile Justice Decision Making: When Race Matters (by) Michael J. Leiber (published by) State University of New York Press\n",
      "Vanity Fair (by) William Makepeace Thackeray (published by) Penguin Books\n",
      "Ready-To-Use Activities for Teaching a Midsummer Night's Dream (by) John Wilson Swope (published by) Center for Applied Research in Education\n",
      "Aristophanes' Old-And-New Comedy: Volume I: Six Essays in Perspective (by) Kenneth J. Reckford (published by) University of North Carolina Press\n",
      "The Americas of Asian American Literature: Gendered Fictions of Nation and Transnation (by) Rachel  C. Lee (published by) Princeton University Press\n",
      "Modern Probability Theory and Its Applications (by) Emanuel Parzen (published by) Wiley-Interscience\n",
      "Securing the Network from Malicious Code: A Complete Guide to Defending Against Viruses, Worms, and Trojans (by) Douglas Schweitzer (published by) John Wiley & Sons\n",
      "Designed to Sell: Turn-Of-The-Century American Posters in the Virginia Museum of Fine Arts (by) Frederick R. Brandt (published by) University of Washington Press\n",
      "The Aesthetic Face of Being: Art in the Theology of Pavel Florensky (by) Victor Bychkov (published by) St. Vladimir's Seminary Press\n",
      "Reading, Learning, Teaching Kurt Vonnegut (by) P.L. Thomas (published by) Peter Lang Inc., International Academic Publishers\n",
      "Thucydides Book I: A Students' Grammatical Commentary (by) Howard Don Cameron (published by) University of Michigan Press\n",
      "The Art of Structural Design: A Swiss Legacy (by) David P. Billington (published by) Princeton University Art Museum\n",
      "Small Business Valuation Book (by) Lawrence W. Tuller (published by) Adams Media\n",
      "Anatomy and Kinesiology for Ballet Teachers (by) Eivind Thomasen (published by) Dance Books Ltd\n",
      "The Best 50 Martinis (by) Jennifer L. Newens (published by) Nitty Gritty Cookbooks\n",
      "Pindar's Mythmaking: The Fourth Pythian Ode (by) Charles Segal (published by) Princeton University Press\n",
      "Narrative Desire and Historical Reparations: A.S. Byatt, Ian McEwan, Salman Rushdie (by) Tim S. Gauthier (published by) Routledge\n",
      "Cosmopolitan Fictions: Ethics, Politics, and Global Change in the Works of Kazuo Ishiguro, Michael Ondaatje, Jamaica Kincaid, and J.M. Coetzee (by) Katherine Stanton (published by) Routledge\n",
      "Lucretius on Death and Anxiety: Poetry and Philosophy in de Rerum Natura (by) Charles Segal (published by) Princeton University Press\n",
      "The Jewish Community of Salonika: History, Memory, Identity (by) Bea Lewkowicz (published by) Mitchell Vallentine & Company\n",
      "Handmaid's Tale, The  (MAXNotes Literature Guides) (by) Malcolm Foster (published by) Research  Education Association\n",
      "Spectator Politics: Metatheatre and Performance in Aristophanes (by) Niall W. Slater (published by) University of Pennsylvania Press\n",
      "Guidebook to Mechanism in Organic Chemistry (by) Peter Sykes (published by) Pearson\n"
     ]
    }
   ],
   "source": [
    "from numpy import linalg as LA\n",
    "vec1=vecdict[doc_to_id['A Wrinkle in Time: Student Packet (by) Novel Units, Inc. (published by) ']]\n",
    "print(id_to_doc[400])\n",
    "veclist=list()\n",
    "for k,v in vecdict.items():\n",
    "    veclist.append((k,v))\n",
    "veclist.sort(key=lambda x: LA.norm(x[1]-vec1))\n",
    "\n",
    "for i in range(0,len(veclist)):\n",
    "    veclist[i]=id_to_doc[veclist[i][0]]\n",
    "for i in range(0,100):\n",
    "    print(veclist[i])\n"
   ]
  },
  {
   "cell_type": "code",
   "execution_count": null,
   "metadata": {
    "collapsed": true
   },
   "outputs": [],
   "source": [
    "# using the word  2 vec generate the word cloud input ! \n",
    "#key word : \n",
    "# "
   ]
  }
 ],
 "metadata": {
  "kernelspec": {
   "display_name": "Python 2",
   "language": "python",
   "name": "python2"
  },
  "language_info": {
   "codemirror_mode": {
    "name": "ipython",
    "version": 2
   },
   "file_extension": ".py",
   "mimetype": "text/x-python",
   "name": "python",
   "nbconvert_exporter": "python",
   "pygments_lexer": "ipython2",
   "version": "2.7.14"
  }
 },
 "nbformat": 4,
 "nbformat_minor": 2
}
