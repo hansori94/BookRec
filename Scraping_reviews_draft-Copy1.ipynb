{
 "cells": [
  {
   "cell_type": "code",
   "execution_count": 6,
   "metadata": {},
   "outputs": [],
   "source": [
    "from goodreads import client\n",
    "import requests\n",
    "import re\n",
    "import urllib2\n",
    "from bs4 import BeautifulSoup\n",
    "import sys\n",
    "import csv\n",
    "import json\n",
    "from collections import defaultdict\n",
    "import xml.etree.ElementTree as ET "
   ]
  },
  {
   "cell_type": "markdown",
   "metadata": {},
   "source": [
    "# Scraping reviews"
   ]
  },
  {
   "cell_type": "code",
   "execution_count": 7,
   "metadata": {},
   "outputs": [],
   "source": [
    "#use your own api_key\n",
    "api_key = \"Je8sMDXDmPqMd1MPknxdw\" \n",
    "api_secret_key= \"FqboDUT1Ym4Ra5WHrCfjaCBsy5cVhJVtfqrYwdqM\""
   ]
  },
  {
   "cell_type": "code",
   "execution_count": 8,
   "metadata": {},
   "outputs": [],
   "source": [
    "gc=client.GoodreadsClient(api_key,api_secret_key)"
   ]
  },
  {
   "cell_type": "code",
   "execution_count": 70,
   "metadata": {
    "scrolled": true
   },
   "outputs": [],
   "source": [
    "author_rev_1=dict() #dictionary\n",
    "for i in range(1,10):\n",
    "    bookname= gc.book(i)\n",
    "    res1=requests.get(\"https://www.goodreads.com/book/show.json\",params={\"key\":api_key,\n",
    "                                                                         \"id\":i})\n",
    "    book=re.findall('(?<=src=\\\")(.*?)(?=\\\")',res1.json()['reviews_widget'])\n",
    "    quote_page =str(book[0])\n",
    "    page = urllib2.urlopen(quote_page)\n",
    "    soup = BeautifulSoup(page,\"html.parser\")\n",
    "    \n",
    "    reviewcontainers = soup.find('div',attrs={\"class\": \"gr_reviews_container\"}).findAll('div', attrs={'class': 'gr_review_container'})\n",
    "    if len(reviewcontainers)==10:\n",
    "        review=[]\n",
    "        for i in reviewcontainers:\n",
    "            link= re.findall('(?<=href=\\\")(.*?)(?=\\\")',\n",
    "                             str(i.find('div', attrs={'class':'gr_review_text'}).find('a', attrs={'class':'gr_more_link'})))[0]\n",
    "            page2 = urllib2.urlopen(link)\n",
    "            nextlink=BeautifulSoup(page2,\"html.parser\")\n",
    "            review.append(nextlink.find('div',attrs={'class':'reviewText mediumText description readable'}).text.strip())\n",
    "        author_rev_1[str(bookname)]=review"
   ]
  },
  {
   "cell_type": "markdown",
   "metadata": {},
   "source": [
    "# Importing to a Json File"
   ]
  },
  {
   "cell_type": "code",
   "execution_count": 71,
   "metadata": {},
   "outputs": [
    {
     "ename": "NameError",
     "evalue": "name 'author_rev_1' is not defined",
     "output_type": "error",
     "traceback": [
      "\u001b[1;31m---------------------------------------------------------------------------\u001b[0m",
      "\u001b[1;31mNameError\u001b[0m                                 Traceback (most recent call last)",
      "\u001b[1;32m<ipython-input-71-12a4a76ccce6>\u001b[0m in \u001b[0;36m<module>\u001b[1;34m()\u001b[0m\n\u001b[0;32m      1\u001b[0m \u001b[1;32mwith\u001b[0m \u001b[0mopen\u001b[0m\u001b[1;33m(\u001b[0m\u001b[1;34m'first10book.json'\u001b[0m\u001b[1;33m,\u001b[0m \u001b[1;34m'w'\u001b[0m\u001b[1;33m)\u001b[0m \u001b[1;32mas\u001b[0m \u001b[0mfp\u001b[0m\u001b[1;33m:\u001b[0m\u001b[1;33m\u001b[0m\u001b[0m\n\u001b[1;32m----> 2\u001b[1;33m     \u001b[0mjson\u001b[0m\u001b[1;33m.\u001b[0m\u001b[0mdump\u001b[0m\u001b[1;33m(\u001b[0m\u001b[0mauthor_rev_1\u001b[0m\u001b[1;33m,\u001b[0m \u001b[0mfp\u001b[0m\u001b[1;33m)\u001b[0m\u001b[1;33m\u001b[0m\u001b[0m\n\u001b[0m",
      "\u001b[1;31mNameError\u001b[0m: name 'author_rev_1' is not defined"
     ]
    }
   ],
   "source": [
    "with open('first10book.json', 'w') as fp:\n",
    "    json.dump(author_rev_1, fp)"
   ]
  },
  {
   "cell_type": "markdown",
   "metadata": {},
   "source": [
    "# Importing a list of bookID from CSV file"
   ]
  },
  {
   "cell_type": "code",
   "execution_count": 8,
   "metadata": {},
   "outputs": [],
   "source": [
    "csv_reader = csv.reader(open(\"books.csv\", 'rb'))\n",
    "k10book= list(csv_reader)\n",
    "bookid10k=[k10book[i][2] for i in range(0,10000)][1:]"
   ]
  },
  {
   "cell_type": "markdown",
   "metadata": {},
   "source": [
    "# Sample book reviews from 20 books"
   ]
  },
  {
   "cell_type": "code",
   "execution_count": 12,
   "metadata": {},
   "outputs": [],
   "source": [
    "sample_20 = bookid10k[:20]"
   ]
  },
  {
   "cell_type": "code",
   "execution_count": 13,
   "metadata": {},
   "outputs": [],
   "source": [
    "booktitle_review_sample20=dict() #dictionary\n",
    "for i in sample_20:\n",
    "    bookname= gc.book(i)\n",
    "    res1=requests.get(\"https://www.goodreads.com/book/show.json\",params={\"key\":api_key,\n",
    "                                                                         \"id\":i})\n",
    "    book=re.findall('(?<=src=\\\")(.*?)(?=\\\")',res1.json()['reviews_widget'])\n",
    "    quote_page =str(book[0])\n",
    "    page = urllib2.urlopen(quote_page)\n",
    "    soup = BeautifulSoup(page,\"html.parser\")\n",
    "    \n",
    "    reviewcontainers = soup.find('div',attrs={\"class\": \"gr_reviews_container\"}).findAll('div', attrs={'class': 'gr_review_container'})\n",
    "    if len(reviewcontainers)==10:\n",
    "        review=[]\n",
    "        for i in reviewcontainers:\n",
    "            link= re.findall('(?<=href=\\\")(.*?)(?=\\\")',\n",
    "                             str(i.find('div', attrs={'class':'gr_review_text'}).find('a', attrs={'class':'gr_more_link'})))[0]\n",
    "            page2 = urllib2.urlopen(link)\n",
    "            nextlink=BeautifulSoup(page2,\"html.parser\")\n",
    "            review.append(nextlink.find('div',attrs={'class':'reviewText mediumText description readable'}).text.strip())\n",
    "        booktitle_review_sample20[str(bookname)]=review"
   ]
  },
  {
   "cell_type": "code",
   "execution_count": 17,
   "metadata": {},
   "outputs": [],
   "source": [
    "with open('first20booksample.json', 'w') as fp:\n",
    "    json.dump(booktitle_review_sample20, fp)"
   ]
  },
  {
   "cell_type": "markdown",
   "metadata": {},
   "source": [
    "# Most Optimal version"
   ]
  },
  {
   "cell_type": "code",
   "execution_count": 74,
   "metadata": {},
   "outputs": [],
   "source": [
    "def Scrape_review(start,end):\n",
    "    booktitle_review=dict() #dictionary\n",
    "    for i in range(start,end):\n",
    "        try:\n",
    "            res1=requests.get(\"https://www.goodreads.com/book/show.json\",params={\"key\":api_key,\n",
    "                                                                                 \"id\":i})\n",
    "            book=re.findall('(?<=src=\\\")(.*?)(?=\\\")',res1.json()['reviews_widget'])\n",
    "            quote_page =str(book[0])\n",
    "            page = urllib2.urlopen(quote_page)\n",
    "            soup = BeautifulSoup(page,\"html.parser\")\n",
    "            reviewcontainers = soup.find('div',attrs={\"class\": \"gr_reviews_container\"}).findAll(\n",
    "                'div', attrs={'class': 'gr_review_container'})\n",
    "            \n",
    "            if len(reviewcontainers)==10:\n",
    "                review=[]\n",
    "                counter = 0\n",
    "                for i in reviewcontainers:\n",
    "                    link= re.findall('(?<=href=\\\")(.*?)(?=\\\")',\n",
    "                                     str(i.find('div', attrs={'class':'gr_review_text'}).find('a', attrs={'class':'gr_more_link'})))[0]\n",
    "                    page2 = urllib2.urlopen(link)\n",
    "                    nextlink=BeautifulSoup(page2,\"html.parser\")\n",
    "                    review.append(nextlink.find('div',attrs={'class':'reviewText mediumText description readable'}).text.strip())\n",
    "                    if counter == 0:\n",
    "                        bookname = str(nextlink.find('a', attrs = {'class':'bookTitle'}).text.strip())\n",
    "                        counter += 1\n",
    "                booktitle_review[bookname]=review\n",
    "        except Exception:\n",
    "            None\n",
    "    return booktitle_review"
   ]
  },
  {
   "cell_type": "code",
   "execution_count": 9,
   "metadata": {},
   "outputs": [],
   "source": [
    "def Scrape_review(start,end):\n",
    "    resultdict = defaultdict(dict)\n",
    " \n",
    "    #booktitle_review=dict() #dictionary\n",
    "    for i in range(start,end):\n",
    "        booktitle  = dict() \n",
    "        try:\n",
    "            res2 = requests.get(\"https://www.goodreads.com/book/show.xml\", params={\"key\":api_key,\"id\":i})\n",
    "            root  = ET.fromstring(res2.content)  \n",
    "\n",
    "            review_count = root.find('book').find('text_reviews_count').text;\n",
    "            author = root.find('book').find('authors').find('author').find('name').text; \n",
    "            title = root.find('book').find('title').text; \n",
    "            description = root.find('book').find('description').text \n",
    "            average_rating = root.find('book').find('average_rating').text  \n",
    "            booktitle['review_count'] = review_count \n",
    "            booktitle['author'] = author  \n",
    "            booktitle['description'] = description \n",
    "            booktitle['average_rating'] = average_rating \n",
    "          \n",
    "\n",
    "            book=re.findall('(?<=src=\\\")(.*?)(?=\\\")',root.find('book').find('reviews_widget').text)\n",
    "            quote_page =str(book[0])\n",
    "    \n",
    "            page = urllib2.urlopen(quote_page)\n",
    "            soup = BeautifulSoup(page,\"html.parser\")\n",
    "            reviewcontainers = soup.find('div',attrs={\"class\": \"gr_reviews_container\"}).findAll(\n",
    "                'div', attrs={'class': 'gr_review_container'})\n",
    "           \n",
    "            if len(reviewcontainers)==10: \n",
    "                totalreview = [] \n",
    "                counter = 0\n",
    "                for i in reviewcontainers:\n",
    "                    review=[] \n",
    "                    link= re.findall('(?<=href=\\\")(.*?)(?=\\\")',\n",
    "                                     str(i.find('div', attrs={'class':'gr_review_text'}).find('a', attrs={'class':'gr_more_link'})))[0]\n",
    "                    page2 = urllib2.urlopen(link)\n",
    "                    nextlink=BeautifulSoup(page2,\"html.parser\")\n",
    "                    review.append(nextlink.find('div',attrs={'class':'reviewText mediumText description readable'}).text.strip())\n",
    "                    if counter == 0:\n",
    "                        bookname = str(nextlink.find('a', attrs = {'class':'bookTitle'}).text.strip())\n",
    "                        counter += 1\n",
    "                    totalreview.append(review) \n",
    "            booktitle['review'] = totalreview \n",
    "\n",
    "            resultdict[title] = booktitle \n",
    "\n",
    "   \n",
    "        except Exception:\n",
    "            print(\"exception\")\n",
    "\n",
    "    return resultdict\n"
   ]
  },
  {
   "cell_type": "code",
   "execution_count": 10,
   "metadata": {},
   "outputs": [
    {
     "name": "stdout",
     "output_type": "stream",
     "text": [
      "exception\n",
      "exception\n",
      "exception\n",
      "exception\n",
      "exception\n",
      "exception\n",
      "exception\n",
      "exception\n",
      "exception\n"
     ]
    }
   ],
   "source": [
    "booktitle_reveow_sample400 = Scrape_review(400,499)\n",
    "with open('400-499.json', 'w') as fp:\n",
    "    json.dump(booktitle_reveow_sample400, fp)"
   ]
  },
  {
   "cell_type": "code",
   "execution_count": null,
   "metadata": {},
   "outputs": [],
   "source": []
  }
 ],
 "metadata": {
  "kernelspec": {
   "display_name": "Python 2",
   "language": "python",
   "name": "python2"
  },
  "language_info": {
   "codemirror_mode": {
    "name": "ipython",
    "version": 2
   },
   "file_extension": ".py",
   "mimetype": "text/x-python",
   "name": "python",
   "nbconvert_exporter": "python",
   "pygments_lexer": "ipython2",
   "version": "2.7.14"
  }
 },
 "nbformat": 4,
 "nbformat_minor": 2
}
